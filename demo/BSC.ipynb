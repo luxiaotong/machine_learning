{
 "cells": [
  {
   "cell_type": "code",
   "execution_count": 18,
   "metadata": {},
   "outputs": [],
   "source": [
    "import numpy as np\n",
    "\n",
    "RI = [0, 0, 0.58, 0.90, 1.12, 1.24, 1.32, 1.41, 1.45, 1.49]"
   ]
  },
  {
   "cell_type": "code",
   "execution_count": 27,
   "metadata": {},
   "outputs": [
    {
     "name": "stdout",
     "output_type": "stream",
     "text": [
      "[0.4457243  0.28479247 0.16442501 0.10505822]\n",
      "True\n",
      "CR: 0.026247326796485657\n",
      "lamda_max: 4.070867782350511\n",
      "CI: 0.023622594116837092\n"
     ]
    }
   ],
   "source": [
    "#A = [\n",
    "#    [1, 3, 2, 5],\n",
    "#    [1/3, 1, 1/2, 3],\n",
    "#    [1/2, 2, 1, 4],\n",
    "#    [1/5, 1/3, 1/4, 1],\n",
    "#]\n",
    "A = [\n",
    "    [1, 2, 3, 3],\n",
    "    [1/2, 1, 2, 3],\n",
    "    [1/3, 1/2, 1, 2],\n",
    "    [1/3, 1/3, 1/2, 1],\n",
    "]\n",
    "# Step 1.\n",
    "M = np.multiply.reduce(A,axis=1)\n",
    "\n",
    "# Step 2.\n",
    "n = np.shape(M)[0]\n",
    "W_AVG = pow(M, 1/n)\n",
    "\n",
    "# Step 3.\n",
    "W_A = W_AVG / np.sum(W_AVG)\n",
    "\n",
    "# Step 4.\n",
    "lamda_max = (1/n) * np.sum( (np.matmul(A, W_A) ) / W_A)\n",
    "CI = (lamda_max - n) / (n - 1)\n",
    "CR = CI / RI[n - 1]\n",
    "\n",
    "print(W_A)\n",
    "print(CR < 0.1)\n",
    "\n",
    "print(\"CR:\", CR)\n",
    "print(\"lamda_max:\", lamda_max)\n",
    "print(\"CI:\", CI)\n",
    "#print(RI[n-1])"
   ]
  },
  {
   "cell_type": "code",
   "execution_count": 20,
   "metadata": {},
   "outputs": [
    {
     "name": "stdout",
     "output_type": "stream",
     "text": [
      "[0.41393319 0.18251561 0.25182219 0.05506657 0.09666244]\n",
      "True\n",
      "CR: 0.03477613675121061\n"
     ]
    }
   ],
   "source": [
    "# B1 -- C\n",
    "#B = [\n",
    "#    [1, 2, 3, 4],\n",
    "#    [1/2, 1, 2, 3],\n",
    "#    [1/3, 1/2, 1, 2],\n",
    "#    [1/4, 1/3, 1/2, 1],\n",
    "#]\n",
    "\n",
    "B = [\n",
    "    [1, 3, 2, 5, 4],\n",
    "    [1/3, 1, 1/2, 4, 3],\n",
    "    [1/2, 2, 1, 5, 2],\n",
    "    [1/5, 1/4, 1/5, 1, 1/2],\n",
    "    [1/4, 1/3, 1/2, 2, 1],\n",
    "]\n",
    "\n",
    "# Step 1.\n",
    "M = np.multiply.reduce(B,axis=1)\n",
    "\n",
    "# Step 2.\n",
    "n = np.shape(M)[0]\n",
    "W_AVG = pow(M, 1/n)\n",
    "\n",
    "# Step 3.\n",
    "W_B1 = W_AVG / np.sum(W_AVG)\n",
    "\n",
    "# Step 4.\n",
    "lamda_max = (1/n) * np.sum( (np.matmul(B, W_B1) ) / W_B1)\n",
    "CI = (lamda_max - n) / (n - 1)\n",
    "CR = CI / RI[n - 1]\n",
    "\n",
    "print(W_B1)\n",
    "print(CR < 0.1)\n",
    "print(\"CR:\", CR)"
   ]
  },
  {
   "cell_type": "code",
   "execution_count": 21,
   "metadata": {},
   "outputs": [
    {
     "name": "stdout",
     "output_type": "stream",
     "text": [
      "[0.49151806 0.3058879  0.07771583 0.12487821]\n",
      "True\n",
      "CR: 0.017910309477395227\n"
     ]
    }
   ],
   "source": [
    "# B2 -- C\n",
    "#B = [\n",
    "#    [1, 2, 2],\n",
    "#    [1/2, 1, 1],\n",
    "#    [1/2, 1, 1],\n",
    "#]\n",
    "\n",
    "B = [\n",
    "    [1, 2, 5, 4],\n",
    "    [1/2, 1, 4, 3],\n",
    "    [1/5, 1/4, 1, 1/2],\n",
    "    [1/4, 1/3, 2, 1],\n",
    "]\n",
    "\n",
    "# Step 1.\n",
    "M = np.multiply.reduce(B,axis=1)\n",
    "\n",
    "# Step 2.\n",
    "n = np.shape(M)[0]\n",
    "W_AVG = pow(M, 1/n)\n",
    "\n",
    "# Step 3.\n",
    "W_B2 = W_AVG / np.sum(W_AVG)\n",
    "\n",
    "# Step 4.\n",
    "lamda_max = (1/n) * np.sum( (np.matmul(B, W_B2) ) / W_B2)\n",
    "CI = (lamda_max - n) / (n - 1)\n",
    "CR = CI / RI[n - 1]\n",
    "\n",
    "print(W_B2)\n",
    "print(CR < 0.1)\n",
    "print(\"CR:\", CR)"
   ]
  },
  {
   "cell_type": "code",
   "execution_count": 22,
   "metadata": {},
   "outputs": [
    {
     "name": "stdout",
     "output_type": "stream",
     "text": [
      "[0.07597233 0.12207666 0.53175094 0.27020007]\n",
      "True\n",
      "CR: 0.042313483958375836\n"
     ]
    }
   ],
   "source": [
    "# B3 -- C\n",
    "#B = [\n",
    "#    [1, 1/3, 1/4],\n",
    "#    [3, 1, 1/2],\n",
    "#    [4, 2, 1],\n",
    "#]\n",
    "B = [\n",
    "    [1, 1/2, 1/5, 1/4],\n",
    "    [2, 1, 1/4, 1/3],\n",
    "    [5, 4, 1, 3],\n",
    "    [4, 3, 1/3, 1],\n",
    "]\n",
    "# Step 1.\n",
    "M = np.multiply.reduce(B,axis=1)\n",
    "\n",
    "# Step 2.\n",
    "n = np.shape(M)[0]\n",
    "W_AVG = pow(M, 1/n)\n",
    "\n",
    "# Step 3.\n",
    "W_B3 = W_AVG / np.sum(W_AVG)\n",
    "\n",
    "# Step 4.\n",
    "lamda_max = (1/n) * np.sum( (np.matmul(B, W_B3) ) / W_B3)\n",
    "CI = (lamda_max - n) / (n - 1)\n",
    "CR = CI / RI[n - 1]\n",
    "\n",
    "print(W_B3)\n",
    "print(CR < 0.1)\n",
    "print(\"CR:\", CR)"
   ]
  },
  {
   "cell_type": "code",
   "execution_count": 23,
   "metadata": {},
   "outputs": [
    {
     "name": "stdout",
     "output_type": "stream",
     "text": [
      "[0.31066017 0.43933983 0.14644661 0.10355339]\n",
      "True\n",
      "CR: 0.04493346057764516\n"
     ]
    }
   ],
   "source": [
    "# B4 -- C\n",
    "#B = [\n",
    "#    [1, 2, 3],\n",
    "#    [1/2, 1, 2],\n",
    "#    [1/3, 1/2, 1],\n",
    "#]\n",
    "#B = [\n",
    "#    [1, 1/2, 3, 3, 3, 3],\n",
    "#    [2, 1, 3, 3, 3, 3],\n",
    "#    [1/3, 1/3, 1, 2, 2, 3],\n",
    "#    [1/3, 1/3, 1/2, 1, 2, 2],\n",
    "#    [1/3, 1/3, 1/2, 1/2, 1, 2],\n",
    "#    [1/3, 1/3, 1/3, 1/2, 1/2, 1],\n",
    "#]\n",
    "B = [\n",
    "    [1, 1/2, 3, 3],\n",
    "    [2, 1, 3, 3],\n",
    "    [1/3, 1/3, 1, 2],\n",
    "    [1/3, 1/3, 1/2, 1],\n",
    "]\n",
    "# Step 1.\n",
    "M = np.multiply.reduce(B,axis=1)\n",
    "\n",
    "# Step 2.\n",
    "n = np.shape(M)[0]\n",
    "W_AVG = pow(M, 1/n)\n",
    "\n",
    "# Step 3.\n",
    "W_B4 = W_AVG / np.sum(W_AVG)\n",
    "\n",
    "# Step 4.\n",
    "lamda_max = (1/n) * np.sum( (np.matmul(B, W_B4) ) / W_B4)\n",
    "CI = (lamda_max - n) / (n - 1)\n",
    "CR = CI / RI[n - 1]\n",
    "\n",
    "print(W_B4)\n",
    "print(CR < 0.1)\n",
    "print(\"CR:\", CR)"
   ]
  },
  {
   "cell_type": "code",
   "execution_count": 24,
   "metadata": {},
   "outputs": [
    {
     "name": "stdout",
     "output_type": "stream",
     "text": [
      "[0.18450008 0.08135164 0.11224327 0.02454451 0.0430848 ]\n",
      "[0.13998064 0.08711457 0.02213288 0.03556437]\n",
      "[0.01249175 0.02007246 0.08743315 0.04442765]\n",
      "[0.03263741 0.04615626 0.01538542 0.01087914]\n"
     ]
    }
   ],
   "source": [
    "print(W_A[0] * W_B1)\n",
    "print(W_A[1] * W_B2)\n",
    "print(W_A[2] * W_B3)\n",
    "print(W_A[3] * W_B4)"
   ]
  },
  {
   "cell_type": "code",
   "execution_count": 25,
   "metadata": {},
   "outputs": [
    {
     "name": "stdout",
     "output_type": "stream",
     "text": [
      "0.4457242996002299\n",
      "0.2847924676245665\n",
      "0.16442500784622127\n",
      "0.10505822492898235\n"
     ]
    }
   ],
   "source": [
    "print(np.sum(W_A[0] * W_B1))\n",
    "print(np.sum(W_A[1] * W_B2))\n",
    "print(np.sum(W_A[2] * W_B3))\n",
    "print(np.sum(W_A[3] * W_B4))"
   ]
  },
  {
   "cell_type": "code",
   "execution_count": 26,
   "metadata": {},
   "outputs": [
    {
     "data": {
      "text/plain": [
       "1.0"
      ]
     },
     "execution_count": 26,
     "metadata": {},
     "output_type": "execute_result"
    }
   ],
   "source": [
    "0.4723430910541628 + 0.28542515888449904 + 0.16971481487311418 + 0.07251693518822402"
   ]
  },
  {
   "cell_type": "code",
   "execution_count": null,
   "metadata": {},
   "outputs": [],
   "source": []
  }
 ],
 "metadata": {
  "kernelspec": {
   "display_name": "Python 3",
   "language": "python",
   "name": "python3"
  },
  "language_info": {
   "codemirror_mode": {
    "name": "ipython",
    "version": 3
   },
   "file_extension": ".py",
   "mimetype": "text/x-python",
   "name": "python",
   "nbconvert_exporter": "python",
   "pygments_lexer": "ipython3",
   "version": "3.6.3"
  }
 },
 "nbformat": 4,
 "nbformat_minor": 2
}
