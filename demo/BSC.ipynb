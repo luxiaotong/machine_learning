{
 "cells": [
  {
   "cell_type": "code",
   "execution_count": 30,
   "metadata": {},
   "outputs": [],
   "source": [
    "import numpy as np\n",
    "\n",
    "RI = [0, 0, 0.58, 0.90, 1.12, 1.24, 1.32, 1.41, 1.45, 1.49]"
   ]
  },
  {
   "cell_type": "code",
   "execution_count": 42,
   "metadata": {},
   "outputs": [
    {
     "name": "stdout",
     "output_type": "stream",
     "text": [
      "[0.47234309 0.16971481 0.28542516 0.07251694]\n",
      "True\n"
     ]
    }
   ],
   "source": [
    "A = [\n",
    "    [1, 3, 2, 5],\n",
    "    [1/3, 1, 1/2, 3],\n",
    "    [1/2, 2, 1, 4],\n",
    "    [1/5, 1/3, 1/4, 1],\n",
    "]\n",
    "# Step 1.\n",
    "M = np.multiply.reduce(A,axis=1)\n",
    "\n",
    "# Step 2.\n",
    "n = np.shape(M)[0]\n",
    "W_AVG = pow(M, 1/n)\n",
    "\n",
    "# Step 3.\n",
    "W_A = W_AVG / np.sum(W_AVG)\n",
    "\n",
    "# Step 4.\n",
    "lamda_max = (1/n) * np.sum( (np.matmul(A, W_A) ) / W_A)\n",
    "CI = (lamda_max - n) / (n - 1)\n",
    "CR = CI / RI[n - 1]\n",
    "\n",
    "print(W_A)\n",
    "print(CR < 0.1)\n",
    "\n",
    "#print(CR)\n",
    "#print(CI)\n",
    "#print(RI[n-1])"
   ]
  },
  {
   "cell_type": "code",
   "execution_count": 43,
   "metadata": {},
   "outputs": [
    {
     "name": "stdout",
     "output_type": "stream",
     "text": [
      "[0.46684856 0.27758982 0.16026656 0.09529506]\n",
      "True\n"
     ]
    }
   ],
   "source": [
    "# B1 -- C\n",
    "B = [\n",
    "    [1, 2, 3, 4],\n",
    "    [1/2, 1, 2, 3],\n",
    "    [1/3, 1/2, 1, 2],\n",
    "    [1/4, 1/3, 1/2, 1],\n",
    "]\n",
    "# Step 1.\n",
    "M = np.multiply.reduce(B,axis=1)\n",
    "\n",
    "# Step 2.\n",
    "n = np.shape(M)[0]\n",
    "W_AVG = pow(M, 1/n)\n",
    "\n",
    "# Step 3.\n",
    "W_B1 = W_AVG / np.sum(W_AVG)\n",
    "\n",
    "# Step 4.\n",
    "lamda_max = (1/n) * np.sum( (np.matmul(B, W_B1) ) / W_B1)\n",
    "CI = (lamda_max - n) / (n - 1)\n",
    "CR = CI / RI[n - 1]\n",
    "\n",
    "print(W_B1)\n",
    "print(CR < 0.1)"
   ]
  },
  {
   "cell_type": "code",
   "execution_count": 44,
   "metadata": {},
   "outputs": [
    {
     "name": "stdout",
     "output_type": "stream",
     "text": [
      "[0.5  0.25 0.25]\n",
      "True\n"
     ]
    }
   ],
   "source": [
    "# B2 -- C\n",
    "B = [\n",
    "    [1, 2, 2],\n",
    "    [1/2, 1, 1],\n",
    "    [1/2, 1, 1],\n",
    "]\n",
    "# Step 1.\n",
    "M = np.multiply.reduce(B,axis=1)\n",
    "\n",
    "# Step 2.\n",
    "n = np.shape(M)[0]\n",
    "W_AVG = pow(M, 1/n)\n",
    "\n",
    "# Step 3.\n",
    "W_B2 = W_AVG / np.sum(W_AVG)\n",
    "\n",
    "# Step 4.\n",
    "lamda_max = (1/n) * np.sum( (np.matmul(B, W_B2) ) / W_B2)\n",
    "CI = (lamda_max - n) / (n - 1)\n",
    "CR = CI / RI[n - 1]\n",
    "\n",
    "print(W_B2)\n",
    "print(CR < 0.1)"
   ]
  },
  {
   "cell_type": "code",
   "execution_count": 46,
   "metadata": {},
   "outputs": [
    {
     "name": "stdout",
     "output_type": "stream",
     "text": [
      "[0.12195719 0.31961826 0.55842454]\n",
      "True\n"
     ]
    }
   ],
   "source": [
    "# B3 -- C\n",
    "B = [\n",
    "    [1, 1/3, 1/4],\n",
    "    [3, 1, 1/2],\n",
    "    [4, 2, 1],\n",
    "]\n",
    "# Step 1.\n",
    "M = np.multiply.reduce(B,axis=1)\n",
    "\n",
    "# Step 2.\n",
    "n = np.shape(M)[0]\n",
    "W_AVG = pow(M, 1/n)\n",
    "\n",
    "# Step 3.\n",
    "W_B3 = W_AVG / np.sum(W_AVG)\n",
    "\n",
    "# Step 4.\n",
    "lamda_max = (1/n) * np.sum( (np.matmul(B, W_B3) ) / W_B3)\n",
    "CI = (lamda_max - n) / (n - 1)\n",
    "CR = CI / RI[n - 1]\n",
    "\n",
    "print(W_B3)\n",
    "print(CR < 0.1)"
   ]
  },
  {
   "cell_type": "code",
   "execution_count": 47,
   "metadata": {},
   "outputs": [
    {
     "name": "stdout",
     "output_type": "stream",
     "text": [
      "[0.53961455 0.29696133 0.16342412]\n",
      "True\n"
     ]
    }
   ],
   "source": [
    "# B4 -- C\n",
    "B = [\n",
    "    [1, 2, 3],\n",
    "    [1/2, 1, 2],\n",
    "    [1/3, 1/2, 1],\n",
    "]\n",
    "# Step 1.\n",
    "M = np.multiply.reduce(B,axis=1)\n",
    "\n",
    "# Step 2.\n",
    "n = np.shape(M)[0]\n",
    "W_AVG = pow(M, 1/n)\n",
    "\n",
    "# Step 3.\n",
    "W_B4 = W_AVG / np.sum(W_AVG)\n",
    "\n",
    "# Step 4.\n",
    "lamda_max = (1/n) * np.sum( (np.matmul(B, W_B4) ) / W_B4)\n",
    "CI = (lamda_max - n) / (n - 1)\n",
    "CR = CI / RI[n - 1]\n",
    "\n",
    "print(W_B4)\n",
    "print(CR < 0.1)"
   ]
  },
  {
   "cell_type": "code",
   "execution_count": 50,
   "metadata": {},
   "outputs": [
    {
     "name": "stdout",
     "output_type": "stream",
     "text": [
      "[0.22051269 0.13111763 0.0757008  0.04501197]\n",
      "[0.08485741 0.0424287  0.0424287 ]\n",
      "[0.03480965 0.09122709 0.15938841]\n",
      "[0.03913119 0.02153473 0.01185102]\n"
     ]
    }
   ],
   "source": [
    "print(W_A[0] * W_B1)\n",
    "print(W_A[1] * W_B2)\n",
    "print(W_A[2] * W_B3)\n",
    "print(W_A[3] * W_B4)"
   ]
  },
  {
   "cell_type": "code",
   "execution_count": null,
   "metadata": {},
   "outputs": [],
   "source": []
  }
 ],
 "metadata": {
  "kernelspec": {
   "display_name": "Python 3",
   "language": "python",
   "name": "python3"
  },
  "language_info": {
   "codemirror_mode": {
    "name": "ipython",
    "version": 3
   },
   "file_extension": ".py",
   "mimetype": "text/x-python",
   "name": "python",
   "nbconvert_exporter": "python",
   "pygments_lexer": "ipython3",
   "version": "3.6.3"
  }
 },
 "nbformat": 4,
 "nbformat_minor": 2
}
