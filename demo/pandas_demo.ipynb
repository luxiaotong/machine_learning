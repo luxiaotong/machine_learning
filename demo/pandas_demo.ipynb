{
 "cells": [
  {
   "cell_type": "code",
   "execution_count": 10,
   "metadata": {},
   "outputs": [
    {
     "name": "stdout",
     "output_type": "stream",
     "text": [
      "0    1\n",
      "1    2\n",
      "2    3\n",
      "3    4\n",
      "dtype: int64\n",
      "1    1\n",
      "2    2\n",
      "3    3\n",
      "4    4\n",
      "dtype: int64\n",
      "{'a': 1, 'b': 2, 'c': 3, 'd': 4}\n",
      "a    1\n",
      "b    2\n",
      "c    3\n",
      "d    4\n",
      "dtype: int64\n"
     ]
    }
   ],
   "source": [
    "import numpy as np\n",
    "import pandas as pd\n",
    "from pandas import Series, DataFrame\n",
    "\n",
    "#Series\n",
    "x1 = Series([1,2,3,4])\n",
    "x2 = Series(data = [1,2,3,4], index = [1,2,3,4])\n",
    "print(x1)\n",
    "print(x2)\n",
    "\n",
    "b = {'a':1, 'b':2, 'c':3, 'd':4}\n",
    "print(b)\n",
    "series_b = Series(b)\n",
    "print(series_b)"
   ]
  },
  {
   "cell_type": "code",
   "execution_count": 2,
   "metadata": {},
   "outputs": [
    {
     "name": "stdout",
     "output_type": "stream",
     "text": [
      "   Chinese  English  Math\n",
      "0       66       65    30\n",
      "1       95       85    98\n",
      "2       93       92    96\n",
      "3       90       88    77\n",
      "4       80       90    90\n",
      "            English  Math  Chinese\n",
      "ZhangFei         65    30       66\n",
      "GuanYu           85    98       95\n",
      "ZhaoYun          92    96       93\n",
      "HuangZhong       88    77       90\n",
      "DianWei          90    90       80\n"
     ]
    }
   ],
   "source": [
    "# DataFrame\n",
    "data = {'Chinese': [66, 95, 93, 90,80],'English': [65, 85, 92, 88, 90],'Math': [30, 98, 96, 77, 90]}\n",
    "df1= DataFrame(data)\n",
    "df2 = DataFrame(data, index=['ZhangFei', 'GuanYu', 'ZhaoYun', 'HuangZhong', 'DianWei'], columns=['English', 'Math', 'Chinese'])\n",
    "print(df1)\n",
    "print(df2)"
   ]
  },
  {
   "cell_type": "code",
   "execution_count": 3,
   "metadata": {},
   "outputs": [
    {
     "name": "stdout",
     "output_type": "stream",
     "text": [
      "            Math  Chinese\n",
      "ZhangFei      30       66\n",
      "GuanYu        98       95\n",
      "ZhaoYun       96       93\n",
      "HuangZhong    77       90\n",
      "DianWei       90       80\n",
      "            English  Math  Chinese\n",
      "GuanYu           85    98       95\n",
      "ZhaoYun          92    96       93\n",
      "HuangZhong       88    77       90\n",
      "DianWei          90    90       80\n",
      "            English  Math  Chinese\n",
      "ZhangFei         65    30      132\n",
      "GuanYu           85    98      190\n",
      "ZhaoYun          92    96      186\n",
      "HuangZhong       88    77      180\n",
      "DianWei          90    90      160\n"
     ]
    }
   ],
   "source": [
    "# Data Cleaning\n",
    "\n",
    "# drop\n",
    "print(df2.drop(columns='English'))\n",
    "print(df2.drop(index='ZhangFei'))\n",
    "\n",
    "# rename\n",
    "#df2.rename(columns={'Chinese': 'YuWen', 'English': 'Yingyu'}, inplace = True)\n",
    "\n",
    "#drop_duplicates\n",
    "df2 = df2.drop_duplicates()\n",
    "\n",
    "# astype\n",
    "#print('Chinses:\\n', df2['Chinese'])\n",
    "#df2['Chinese'] = df2['Chinese'].astype('str')\n",
    "#print('Chinses:\\n', df2['Chinese'])\n",
    "\n",
    "# strip\n",
    "# 删除左右两边空格\n",
    "#df2['Chinese']=df2['Chinese'].map(str.strip)\n",
    "# 删除左边空格\n",
    "#df2['Chinese']=df2['Chinese'].map(str.lstrip)\n",
    "# 删除右边空格\n",
    "#df2['Chinese']=df2['Chinese'].map(str.rstrip)\n",
    "\n",
    "#apply\n",
    "def double_df(x):\n",
    "    return 2*x;\n",
    "df2['Chinese'] = df2['Chinese'].apply(double_df)\n",
    "print(df2)"
   ]
  },
  {
   "cell_type": "code",
   "execution_count": 4,
   "metadata": {},
   "outputs": [
    {
     "name": "stdout",
     "output_type": "stream",
     "text": [
      "          data1\n",
      "count  5.000000\n",
      "mean   2.000000\n",
      "std    1.581139\n",
      "min    0.000000\n",
      "25%    1.000000\n",
      "50%    2.000000\n",
      "75%    3.000000\n",
      "max    4.000000\n"
     ]
    }
   ],
   "source": [
    "# Statistics\n",
    "\n",
    "# describe\n",
    "df1 = DataFrame({'name':['ZhangFei', 'GuanYu', 'a', 'b', 'c'], 'data1':range(5)})\n",
    "print(df1.describe())"
   ]
  },
  {
   "cell_type": "code",
   "execution_count": 5,
   "metadata": {},
   "outputs": [
    {
     "name": "stdout",
     "output_type": "stream",
     "text": [
      "df1:\n",
      "        name  data1\n",
      "0  ZhangFei      0\n",
      "1    GuanYu      1\n",
      "2         a      2\n",
      "3         b      3\n",
      "4         c      4\n",
      "df2:\n",
      "        name  data2\n",
      "0  ZhangFei      0\n",
      "1    GuanYu      1\n",
      "2         A      2\n",
      "3         B      3\n",
      "4         C      4\n",
      "merge by name:\n",
      "        name  data1  data2\n",
      "0  ZhangFei      0      0\n",
      "1    GuanYu      1      1\n",
      "inner merge:\n",
      "        name  data1  data2\n",
      "0  ZhangFei      0      0\n",
      "1    GuanYu      1      1\n",
      "left merge:\n",
      "        name  data1  data2\n",
      "0  ZhangFei      0    0.0\n",
      "1    GuanYu      1    1.0\n",
      "2         a      2    NaN\n",
      "3         b      3    NaN\n",
      "4         c      4    NaN\n",
      "right merge:\n",
      "        name  data1  data2\n",
      "0  ZhangFei    0.0      0\n",
      "1    GuanYu    1.0      1\n",
      "2         A    NaN      2\n",
      "3         B    NaN      3\n",
      "4         C    NaN      4\n",
      "outer merge:\n",
      "        name  data1  data2\n",
      "0  ZhangFei    0.0    0.0\n",
      "1    GuanYu    1.0    1.0\n",
      "2         a    2.0    NaN\n",
      "3         b    3.0    NaN\n",
      "4         c    4.0    NaN\n",
      "5         A    NaN    2.0\n",
      "6         B    NaN    3.0\n",
      "7         C    NaN    4.0\n"
     ]
    }
   ],
   "source": [
    "# Merge\n",
    "df1 = DataFrame({'name':['ZhangFei', 'GuanYu', 'a', 'b', 'c'], 'data1':range(5)})\n",
    "df2 = DataFrame({'name':['ZhangFei', 'GuanYu', 'A', 'B', 'C'], 'data2':range(5)})\n",
    "print(\"df1:\\n\", df1)\n",
    "print(\"df2:\\n\", df2)\n",
    "\n",
    "# column\n",
    "df3 = pd.merge(df1, df2, on='name')\n",
    "print(\"merge by name:\\n\", df3)\n",
    "\n",
    "# inner\n",
    "df3 = pd.merge(df1, df2, how='inner')\n",
    "print(\"inner merge:\\n\", df3)\n",
    "\n",
    "# left\n",
    "df3 = pd.merge(df1, df2, how='left')\n",
    "print(\"left merge:\\n\", df3)\n",
    "\n",
    "# right\n",
    "df3 = pd.merge(df1, df2, how='right')\n",
    "print(\"right merge:\\n\", df3)\n",
    "\n",
    "# outer\n",
    "df3 = pd.merge(df1, df2, how='outer')\n",
    "print(\"outer merge:\\n\", df3)"
   ]
  },
  {
   "cell_type": "code",
   "execution_count": 6,
   "metadata": {},
   "outputs": [
    {
     "name": "stdout",
     "output_type": "stream",
     "text": [
      "       name  data1  data2\n",
      "0  ZhangFei    0.0    0.0\n",
      "1    GuanYu    1.0    1.0\n",
      "2         a    2.0    NaN\n",
      "3         b    3.0    NaN\n",
      "4         c    4.0    NaN\n",
      "  name  data1  data2\n",
      "0    a    2.0    NaN\n",
      "1    b    3.0    NaN\n",
      "2    c    4.0    NaN\n",
      "3    A    NaN    2.0\n",
      "4    B    NaN    3.0\n",
      "5    C    NaN    4.0\n"
     ]
    }
   ],
   "source": [
    "from pandasql import sqldf, load_meat, load_births\n",
    "#df1 = DataFrame({'name':['ZhangFei', 'GuanYu', 'a', 'b', 'c'], 'data1':range(5)})\n",
    "#pysqldf = lambda sql: sqldf(sql, globals())\n",
    "#sql = \"select * from df1 where name ='ZhangFei'\"\n",
    "#print(pysqldf(sql))\n",
    "sql = \"select * from df3 where data1 < 5\"\n",
    "print(sqldf(sql, globals()))\n",
    "\n",
    "sql = \"select * from df3 where data1 is Null or data2 is Null\"\n",
    "print(sqldf(sql, globals()))"
   ]
  },
  {
   "cell_type": "code",
   "execution_count": 26,
   "metadata": {},
   "outputs": [
    {
     "name": "stdout",
     "output_type": "stream",
     "text": [
      "   姓名  语文  英语    数学\n",
      "0  张飞  66  65   NaN\n",
      "1  关羽  95  85  98.0\n",
      "2  赵云  95  92  96.0\n",
      "3  黄忠  90  88  77.0\n",
      "4  典韦  80  90  90.0\n",
      "5  典韦  80  90  90.0\n",
      "   姓名  语文  英语    数学\n",
      "0  张飞  66  65   NaN\n",
      "1  关羽  95  85  98.0\n",
      "2  赵云  95  92  96.0\n",
      "3  黄忠  90  88  77.0\n",
      "4  典韦  80  90  90.0\n"
     ]
    },
    {
     "data": {
      "text/html": [
       "<div>\n",
       "<style scoped>\n",
       "    .dataframe tbody tr th:only-of-type {\n",
       "        vertical-align: middle;\n",
       "    }\n",
       "\n",
       "    .dataframe tbody tr th {\n",
       "        vertical-align: top;\n",
       "    }\n",
       "\n",
       "    .dataframe thead th {\n",
       "        text-align: right;\n",
       "    }\n",
       "</style>\n",
       "<table border=\"1\" class=\"dataframe\">\n",
       "  <thead>\n",
       "    <tr style=\"text-align: right;\">\n",
       "      <th></th>\n",
       "      <th>姓名</th>\n",
       "      <th>语文</th>\n",
       "      <th>英语</th>\n",
       "      <th>数学</th>\n",
       "      <th>总分</th>\n",
       "    </tr>\n",
       "  </thead>\n",
       "  <tbody>\n",
       "    <tr>\n",
       "      <th>0</th>\n",
       "      <td>张飞</td>\n",
       "      <td>66</td>\n",
       "      <td>65</td>\n",
       "      <td>NaN</td>\n",
       "      <td>131.0</td>\n",
       "    </tr>\n",
       "    <tr>\n",
       "      <th>1</th>\n",
       "      <td>关羽</td>\n",
       "      <td>95</td>\n",
       "      <td>85</td>\n",
       "      <td>98.0</td>\n",
       "      <td>278.0</td>\n",
       "    </tr>\n",
       "    <tr>\n",
       "      <th>2</th>\n",
       "      <td>赵云</td>\n",
       "      <td>95</td>\n",
       "      <td>92</td>\n",
       "      <td>96.0</td>\n",
       "      <td>283.0</td>\n",
       "    </tr>\n",
       "    <tr>\n",
       "      <th>3</th>\n",
       "      <td>黄忠</td>\n",
       "      <td>90</td>\n",
       "      <td>88</td>\n",
       "      <td>77.0</td>\n",
       "      <td>255.0</td>\n",
       "    </tr>\n",
       "    <tr>\n",
       "      <th>4</th>\n",
       "      <td>典韦</td>\n",
       "      <td>80</td>\n",
       "      <td>90</td>\n",
       "      <td>90.0</td>\n",
       "      <td>260.0</td>\n",
       "    </tr>\n",
       "  </tbody>\n",
       "</table>\n",
       "</div>"
      ],
      "text/plain": [
       "   姓名  语文  英语    数学     总分\n",
       "0  张飞  66  65   NaN  131.0\n",
       "1  关羽  95  85  98.0  278.0\n",
       "2  赵云  95  92  96.0  283.0\n",
       "3  黄忠  90  88  77.0  255.0\n",
       "4  典韦  80  90  90.0  260.0"
      ]
     },
     "execution_count": 26,
     "metadata": {},
     "output_type": "execute_result"
    }
   ],
   "source": [
    "# Assignment\n",
    "df = pd.read_excel(\"./pandas_demo.xlsx\")\n",
    "print(df)\n",
    "\n",
    "df = df.drop_duplicates()\n",
    "print(df)\n",
    "\n",
    "df[u'总分'] = np.sum(df, 1)\n",
    "df"
   ]
  },
  {
   "cell_type": "code",
   "execution_count": null,
   "metadata": {},
   "outputs": [],
   "source": []
  }
 ],
 "metadata": {
  "kernelspec": {
   "display_name": "Python 3",
   "language": "python",
   "name": "python3"
  },
  "language_info": {
   "codemirror_mode": {
    "name": "ipython",
    "version": 3
   },
   "file_extension": ".py",
   "mimetype": "text/x-python",
   "name": "python",
   "nbconvert_exporter": "python",
   "pygments_lexer": "ipython3",
   "version": "3.6.3"
  }
 },
 "nbformat": 4,
 "nbformat_minor": 2
}
