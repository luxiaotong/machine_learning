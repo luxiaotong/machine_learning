{
 "cells": [
  {
   "cell_type": "code",
   "execution_count": 6,
   "metadata": {},
   "outputs": [
    {
     "name": "stdout",
     "output_type": "stream",
     "text": [
      "(3,)\n",
      "(3, 3)\n",
      "int64\n",
      "[[ 1  2  3]\n",
      " [ 4 10  6]\n",
      " [ 7  8  9]]\n"
     ]
    }
   ],
   "source": [
    "import numpy as np\n",
    "\n",
    "a = np.array([1,2,3])\n",
    "b = np.array([[1,2,3], [4,5,6], [7,8,9]])\n",
    "print(a.shape)\n",
    "print(b.shape)\n",
    "print(a.dtype)\n",
    "\n",
    "b[1, 1] = 10\n",
    "print(b)"
   ]
  },
  {
   "cell_type": "code",
   "execution_count": 20,
   "metadata": {},
   "outputs": [
    {
     "name": "stdout",
     "output_type": "stream",
     "text": [
      "[(b'a', 12, 100, 100, 100.) (b'b', 13,  99,  99,  99.)\n",
      " (b'c123', 14,  98,  98,  98.)]\n",
      "[12 13 14]\n",
      "[100  99  98]\n",
      "13.0\n",
      "99.0\n",
      "99.0\n"
     ]
    }
   ],
   "source": [
    "# dtype\n",
    "persontype = np.dtype({'names':['name', 'age', 'chinese', 'math', 'english'], 'formats':['S32','i', 'i', 'i', 'f']})\n",
    "people = np.array([(\"a\", 12, 100, 100, 100), (\"b\", 13, 99, 99, 99), (\"c123\", 14, 98, 98, 98)], dtype=persontype)\n",
    "print(people)\n",
    "print(people[:]['age'])\n",
    "print(people[:]['math'])\n",
    "print(np.mean(people[:]['age']))\n",
    "print(np.mean(people[:]['math']))\n",
    "print(np.mean(people[:]['chinese']))"
   ]
  },
  {
   "cell_type": "code",
   "execution_count": 33,
   "metadata": {},
   "outputs": [
    {
     "name": "stdout",
     "output_type": "stream",
     "text": [
      "[1 3 5 7 9]\n",
      "[1. 3. 5. 7. 9.]\n",
      "[ 2.  6. 10. 14. 18.]\n",
      "[0. 0. 0. 0. 0.]\n",
      "[ 1.  9. 25. 49. 81.]\n",
      "[1. 1. 1. 1. 1.]\n",
      "[ 1  9 25 49 81]\n",
      "[1 0 2 1 0]\n"
     ]
    }
   ],
   "source": [
    "# arange/linspace\n",
    "x1 = np.arange(1, 11, 2)\n",
    "x2 = np.linspace(1, 9, 5)\n",
    "print(x1)\n",
    "print(x2)\n",
    "print(np.add(x1, x2))\n",
    "print(np.subtract(x1, x2))\n",
    "print(np.multiply(x1, x2))\n",
    "print(np.divide(x1, x2))\n",
    "print(np.power(x1, 2))\n",
    "print(np.remainder(x1, 3))"
   ]
  },
  {
   "cell_type": "code",
   "execution_count": 41,
   "metadata": {},
   "outputs": [
    {
     "name": "stdout",
     "output_type": "stream",
     "text": [
      "3\n",
      "[[ 1  2  3]\n",
      " [ 4 10  6]\n",
      " [ 7  8  9]]\n",
      "1\n",
      "[1 2 3]\n",
      "[1 4 7]\n",
      "10\n",
      "[ 7 10  9]\n",
      "[ 3 10  9]\n"
     ]
    }
   ],
   "source": [
    "# amax/amin\n",
    "print(np.amax(a))\n",
    "print(b)\n",
    "print(np.amin(b))\n",
    "print(np.amin(b,0))\n",
    "print(np.amin(b,1))\n",
    "print(np.amax(b))\n",
    "print(np.amax(b,0))\n",
    "print(np.amax(b,1))"
   ]
  },
  {
   "cell_type": "code",
   "execution_count": 44,
   "metadata": {},
   "outputs": [
    {
     "name": "stdout",
     "output_type": "stream",
     "text": [
      "9\n",
      "[6 8 6]\n",
      "[2 6 2]\n"
     ]
    }
   ],
   "source": [
    "# ptp\n",
    "print(np.ptp(b))\n",
    "print(np.ptp(b,0))\n",
    "print(np.ptp(b,1))"
   ]
  },
  {
   "cell_type": "code",
   "execution_count": 57,
   "metadata": {},
   "outputs": [
    {
     "name": "stdout",
     "output_type": "stream",
     "text": [
      "[[ 1  2  3]\n",
      " [ 4 10  6]\n",
      " [ 7  8  9]]\n",
      "9.84\n",
      "50\n",
      "49.0\n"
     ]
    }
   ],
   "source": [
    "# percentile ???\n",
    "print(b)\n",
    "print(np.percentile(b, 98))\n",
    "print(np.sum(b))\n",
    "print(np.sum(b)*0.98)"
   ]
  },
  {
   "cell_type": "code",
   "execution_count": 60,
   "metadata": {},
   "outputs": [
    {
     "name": "stdout",
     "output_type": "stream",
     "text": [
      "[[ 1  2  3]\n",
      " [ 4 10  6]\n",
      " [ 7  8  9]]\n",
      "6.0\n",
      "[4. 8. 6.]\n",
      "[2. 6. 8.]\n",
      "5.555555555555555\n",
      "[4.         6.66666667 6.        ]\n",
      "[2.         6.66666667 8.        ]\n"
     ]
    }
   ],
   "source": [
    "# median/mean\n",
    "print(b)\n",
    "\n",
    "#median\n",
    "print(np.median(b))\n",
    "print(np.median(b, 0))\n",
    "print(np.median(b, 1))\n",
    "\n",
    "# mean\n",
    "print(np.mean(b))\n",
    "print(np.mean(b, 0))\n",
    "print(np.mean(b, 1))"
   ]
  },
  {
   "cell_type": "code",
   "execution_count": 62,
   "metadata": {},
   "outputs": [
    {
     "name": "stdout",
     "output_type": "stream",
     "text": [
      "2.5\n",
      "3.0\n"
     ]
    }
   ],
   "source": [
    "#average\n",
    "a = wts = [1,2,3,4]\n",
    "print(np.average(a))\n",
    "print(np.average(a, weights=wts))"
   ]
  },
  {
   "cell_type": "code",
   "execution_count": 64,
   "metadata": {},
   "outputs": [
    {
     "name": "stdout",
     "output_type": "stream",
     "text": [
      "1.118033988749895\n",
      "1.25\n"
     ]
    }
   ],
   "source": [
    "# std/var\n",
    "\n",
    "#方差的计算是指每个数值与平均值之差的平方求和的平均值，\n",
    "#即 mean((x - x.mean())** 2)。\n",
    "#标准差是方差的算术平方根。\n",
    "#在数学意义上，代表的是一组数据离平均值的分散程度。\n",
    "a = [1,2,3,4]\n",
    "print(np.std(a))\n",
    "print(np.var(a))"
   ]
  },
  {
   "cell_type": "code",
   "execution_count": 70,
   "metadata": {},
   "outputs": [
    {
     "name": "stdout",
     "output_type": "stream",
     "text": [
      "[[4, 3, 2], [2, 4, 1]]\n",
      "[[2 3 4]\n",
      " [1 2 4]]\n",
      "[1 2 2 3 4 4]\n",
      "[[2 3 1]\n",
      " [4 4 2]]\n",
      "[[2 3 4]\n",
      " [1 2 4]]\n"
     ]
    }
   ],
   "source": [
    "# sort\n",
    "a = [[4,3,2], [2,4,1]]\n",
    "print(a)\n",
    "print(np.sort(a))\n",
    "print(np.sort(a, axis=None))\n",
    "print(np.sort(a, axis=0))\n",
    "print(np.sort(a, axis=1))"
   ]
  },
  {
   "cell_type": "code",
   "execution_count": 104,
   "metadata": {},
   "outputs": [
    {
     "name": "stdout",
     "output_type": "stream",
     "text": [
      "[('张飞', 66, 65, 30, 0) ('关羽', 95, 85, 98, 0) ('赵云', 93, 92, 96, 0)\n",
      " ('黄忠', 90, 88, 77, 0) ('典韦', 80, 90, 90, 0)]\n",
      "mean:\n",
      "84.8\n",
      "84.0\n",
      "78.2\n",
      "min:\n",
      "66\n",
      "65\n",
      "30\n",
      "max:\n",
      "95\n",
      "92\n",
      "98\n",
      "var:\n",
      "114.96000000000001\n",
      "95.6\n",
      "634.56\n",
      "std:\n",
      "10.721940122944169\n",
      "9.777525249264253\n",
      "25.19047439013406\n",
      "sort:\n",
      "[66 80 90 93 95]\n",
      "[65 85 88 90 92]\n",
      "[30 77 90 96 98]\n",
      "[('张飞', 66, 65, 30, 161) ('黄忠', 90, 88, 77, 255) ('典韦', 80, 90, 90, 260)\n",
      " ('关羽', 95, 85, 98, 278) ('赵云', 93, 92, 96, 281)]\n"
     ]
    }
   ],
   "source": [
    "# assigment\n",
    "persontype = np.dtype({'names':['name', 'chinese', 'english', 'math', 'total'], 'formats':['U32','i', 'i', 'i', 'i']})\n",
    "people = np.array([(\"张飞\", 66, 65, 30, 0), (\"关羽\", 95, 85, 98, 0), (\"赵云\", 93, 92, 96, 0), (\"黄忠\", 90, 88, 77, 0), (\"典韦\", 80, 90, 90, 0)], dtype=persontype)\n",
    "print(people)\n",
    "\n",
    "#mean\n",
    "print(\"mean:\")\n",
    "print(np.mean(people[:]['chinese']))\n",
    "print(np.mean(people[:]['english']))\n",
    "print(np.mean(people[:]['math']))\n",
    "\n",
    "#min\n",
    "print(\"min:\")\n",
    "print(np.amin(people[:]['chinese']))\n",
    "print(np.amin(people[:]['english']))\n",
    "print(np.amin(people[:]['math']))\n",
    "\n",
    "#max\n",
    "print(\"max:\")\n",
    "print(np.amax(people[:]['chinese']))\n",
    "print(np.amax(people[:]['english']))\n",
    "print(np.amax(people[:]['math']))\n",
    "\n",
    "#var\n",
    "print(\"var:\")\n",
    "print(np.var(people[:]['chinese']))\n",
    "print(np.var(people[:]['english']))\n",
    "print(np.var(people[:]['math']))\n",
    "\n",
    "#std\n",
    "print(\"std:\")\n",
    "print(np.std(people[:]['chinese']))\n",
    "print(np.std(people[:]['english']))\n",
    "print(np.std(people[:]['math']))\n",
    "\n",
    "#sort\n",
    "print(\"sort:\")\n",
    "print(np.sort(people[:]['chinese']))\n",
    "print(np.sort(people[:]['english']))\n",
    "print(np.sort(people[:]['math']))\n",
    "\n",
    "#print(\"total sort:\", np.sort(np.sum(people[1:3],1)))\n",
    "\n",
    "people[:]['total'] = people[:]['chinese']+people[:]['english']+people[:]['math']\n",
    "print(np.sort(people, order='total'))"
   ]
  },
  {
   "cell_type": "code",
   "execution_count": null,
   "metadata": {},
   "outputs": [],
   "source": []
  }
 ],
 "metadata": {
  "kernelspec": {
   "display_name": "Python 3",
   "language": "python",
   "name": "python3"
  },
  "language_info": {
   "codemirror_mode": {
    "name": "ipython",
    "version": 3
   },
   "file_extension": ".py",
   "mimetype": "text/x-python",
   "name": "python",
   "nbconvert_exporter": "python",
   "pygments_lexer": "ipython3",
   "version": "3.6.3"
  }
 },
 "nbformat": 4,
 "nbformat_minor": 2
}
