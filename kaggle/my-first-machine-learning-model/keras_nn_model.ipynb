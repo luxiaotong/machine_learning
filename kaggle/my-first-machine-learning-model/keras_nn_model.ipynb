{
 "cells": [
  {
   "cell_type": "code",
   "execution_count": 178,
   "metadata": {},
   "outputs": [],
   "source": [
    "import numpy as np\n",
    "import pandas as pd\n",
    "import matplotlib.pyplot as plt\n",
    "%matplotlib inline\n",
    "import math\n",
    "\n",
    "from sklearn.model_selection import train_test_split\n",
    "\n",
    "from keras.models import Sequential\n",
    "from keras.layers import Dense, Activation\n",
    "from keras.layers.normalization import BatchNormalization"
   ]
  },
  {
   "cell_type": "code",
   "execution_count": 179,
   "metadata": {},
   "outputs": [],
   "source": [
    "df_train = pd.read_csv('train.csv')\n",
    "df_test = pd.read_csv('test.csv')\n",
    "\n",
    "#y_train = np.log1p(df_train[['SalePrice']])\n",
    "y_train = df_train['SalePrice']\n",
    "df_train.drop(columns=['SalePrice'], inplace=True)\n",
    "\n",
    "all_data = pd.concat([df_train, df_test])\n",
    "#all_data.dropna(axis='columns', inplace=True)\n",
    "all_data = pd.get_dummies(all_data)\n",
    "all_data.fillna(all_data.mean(), inplace=True)\n",
    "\n",
    "X_train = all_data[:df_train.shape[0]]\n",
    "X_test = all_data[df_train.shape[0]:]\n",
    "\n",
    "X_tr, X_val, y_tr, y_val = train_test_split(X_train, y_train)"
   ]
  },
  {
   "cell_type": "code",
   "execution_count": 180,
   "metadata": {},
   "outputs": [],
   "source": [
    "model = Sequential()\n",
    "\n",
    "model.add(Dense(1028, input_dim=289, activation='relu'))\n",
    "BatchNormalization()\n",
    "\n",
    "model.add(Dense(1028, input_dim=289, activation='relu'))\n",
    "BatchNormalization()\n",
    "\n",
    "model.add(Dense(100, input_dim=289, activation='relu'))\n",
    "BatchNormalization()\n",
    "\n",
    "model.add(Dense(50))\n",
    "BatchNormalization()\n",
    "\n",
    "model.add(Dense(1))\n",
    "\n",
    "model.compile(optimizer='adam',loss='mse',metrics=['accuracy'])"
   ]
  },
  {
   "cell_type": "code",
   "execution_count": 190,
   "metadata": {},
   "outputs": [
    {
     "name": "stdout",
     "output_type": "stream",
     "text": [
      "Train on 1095 samples, validate on 365 samples\n",
      "Epoch 1/10\n",
      "1095/1095 [==============================] - 0s 100us/step - loss: 2587771753.2055 - acc: 0.0000e+00 - val_loss: 2051988864.0000 - val_acc: 0.0000e+00\n",
      "Epoch 2/10\n",
      "1095/1095 [==============================] - 0s 96us/step - loss: 2540932944.6575 - acc: 0.0000e+00 - val_loss: 2031011456.0000 - val_acc: 0.0000e+00\n",
      "Epoch 3/10\n",
      "1095/1095 [==============================] - 0s 105us/step - loss: 2507007525.9909 - acc: 0.0000e+00 - val_loss: 2017254272.0000 - val_acc: 0.0000e+00\n",
      "Epoch 4/10\n",
      "1095/1095 [==============================] - 0s 103us/step - loss: 2467979366.2831 - acc: 0.0000e+00 - val_loss: 2006930816.0000 - val_acc: 0.0000e+00\n",
      "Epoch 5/10\n",
      "1095/1095 [==============================] - 0s 96us/step - loss: 2439272805.6986 - acc: 0.0000e+00 - val_loss: 1985142144.0000 - val_acc: 0.0000e+00\n",
      "Epoch 6/10\n",
      "1095/1095 [==============================] - 0s 94us/step - loss: 2410871612.2009 - acc: 0.0000e+00 - val_loss: 1930185472.0000 - val_acc: 0.0000e+00\n",
      "Epoch 7/10\n",
      "1095/1095 [==============================] - 0s 97us/step - loss: 2370083844.0913 - acc: 0.0000e+00 - val_loss: 1872311296.0000 - val_acc: 0.0000e+00\n",
      "Epoch 8/10\n",
      "1095/1095 [==============================] - 0s 93us/step - loss: 2350215819.6895 - acc: 0.0000e+00 - val_loss: 1853573504.0000 - val_acc: 0.0000e+00\n",
      "Epoch 9/10\n",
      "1095/1095 [==============================] - 0s 93us/step - loss: 2359867913.9361 - acc: 0.0000e+00 - val_loss: 1816370048.0000 - val_acc: 0.0000e+00\n",
      "Epoch 10/10\n",
      "1095/1095 [==============================] - 0s 97us/step - loss: 2316866965.6256 - acc: 0.0000e+00 - val_loss: 1781697664.0000 - val_acc: 0.0000e+00\n"
     ]
    },
    {
     "data": {
      "text/plain": [
       "<keras.callbacks.History at 0x12fa07208>"
      ]
     },
     "execution_count": 190,
     "metadata": {},
     "output_type": "execute_result"
    }
   ],
   "source": [
    "model.fit(X_tr, y_tr, validation_data=(X_val, y_val), epochs=10, batch_size=1000)"
   ]
  },
  {
   "cell_type": "code",
   "execution_count": 191,
   "metadata": {},
   "outputs": [
    {
     "name": "stdout",
     "output_type": "stream",
     "text": [
      "365/365 [==============================] - 0s 98us/step\n"
     ]
    },
    {
     "data": {
      "text/plain": [
       "array([42210.15738668,     0.        ])"
      ]
     },
     "execution_count": 191,
     "metadata": {},
     "output_type": "execute_result"
    }
   ],
   "source": [
    "np.sqrt(model.evaluate(X_val,y_val))"
   ]
  },
  {
   "cell_type": "code",
   "execution_count": 193,
   "metadata": {},
   "outputs": [],
   "source": [
    "preds = model.predict(np.array(X_test))"
   ]
  },
  {
   "cell_type": "code",
   "execution_count": 184,
   "metadata": {},
   "outputs": [],
   "source": [
    "def rmsle(y, y_pred):\n",
    "    assert len(y) == len(y_pred)\n",
    "    terms_to_sum = [(math.log(y_pred[i] + 1) - math.log(y[i] + 1)) ** 2.0 for i,pred in enumerate(y_pred)]\n",
    "    return (sum(terms_to_sum) * (1.0/len(y))) ** 0.5"
   ]
  },
  {
   "cell_type": "code",
   "execution_count": 194,
   "metadata": {},
   "outputs": [
    {
     "data": {
      "text/plain": [
       "0.22321104425782148"
      ]
     },
     "execution_count": 194,
     "metadata": {},
     "output_type": "execute_result"
    }
   ],
   "source": [
    "preds = model.predict(np.array(X_tr))\n",
    "#print(y_val.values)\n",
    "#print(preds.flatten())\n",
    "rmsle(y_tr.values, preds.flatten())"
   ]
  },
  {
   "cell_type": "code",
   "execution_count": 188,
   "metadata": {},
   "outputs": [],
   "source": [
    "subm = pd.read_csv(\"sample_submission.csv\")\n",
    "preds = np.array(model.predict(np.array(X_test)))\n",
    "\n",
    "subm.iloc[:,1] = np.array(model.predict(np.array(X_test)))\n",
    "#subm['SalePrice'] = np.expm1(subm[['SalePrice']])\n",
    "subm.to_csv('kerassubmission1.csv', index=None)"
   ]
  },
  {
   "cell_type": "code",
   "execution_count": null,
   "metadata": {},
   "outputs": [],
   "source": []
  }
 ],
 "metadata": {
  "kernelspec": {
   "display_name": "Python 3",
   "language": "python",
   "name": "python3"
  },
  "language_info": {
   "codemirror_mode": {
    "name": "ipython",
    "version": 3
   },
   "file_extension": ".py",
   "mimetype": "text/x-python",
   "name": "python",
   "nbconvert_exporter": "python",
   "pygments_lexer": "ipython3",
   "version": "3.6.0"
  }
 },
 "nbformat": 4,
 "nbformat_minor": 2
}
