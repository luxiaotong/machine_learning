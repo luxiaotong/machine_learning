{
 "cells": [
  {
   "cell_type": "code",
   "execution_count": 78,
   "metadata": {},
   "outputs": [
    {
     "name": "stdout",
     "output_type": "stream",
     "text": [
      "不重复的词: ['and', 'bayes', 'document', 'is', 'one', 'second', 'the', 'third', 'this']\n",
      "每个单词的ID: {'this': 8, 'is': 3, 'the': 6, 'bayes': 1, 'document': 2, 'second': 5, 'and': 0, 'third': 7, 'one': 4}\n",
      "每个单词的TF-IDF值: [0.         0.63314609 0.40412895 0.40412895 0.         0.\n",
      " 0.33040189 0.         0.40412895]\n"
     ]
    },
    {
     "name": "stderr",
     "output_type": "stream",
     "text": [
      "/Library/Frameworks/Python.framework/Versions/3.6/lib/python3.6/site-packages/sklearn/feature_extraction/text.py:1089: FutureWarning: Conversion of the second argument of issubdtype from `float` to `np.floating` is deprecated. In future, it will be treated as `np.float64 == np.dtype(float).type`.\n",
      "  if hasattr(X, 'dtype') and np.issubdtype(X.dtype, np.float):\n"
     ]
    }
   ],
   "source": [
    "import numpy as np\n",
    "from sklearn.feature_extraction.text import TfidfVectorizer\n",
    "np.set_printoptions(threshold=np.inf)\n",
    "\n",
    "tfidf_vec = TfidfVectorizer()\n",
    "documents = [\n",
    "    'this is the bayes document',\n",
    "    'this is the second document',\n",
    "    'and the third one',\n",
    "    'is this the document',\n",
    "]\n",
    "\n",
    "tfidf_matrix = tfidf_vec.fit_transform(documents)\n",
    "print('不重复的词:', tfidf_vec.get_feature_names())\n",
    "print('每个单词的ID:', tfidf_vec.vocabulary_)\n",
    "print('每个单词的TF-IDF值:', tfidf_matrix.toarray()[0])\n",
    "\n",
    "#nltk/Jieba\n",
    "# 多项式贝叶斯分类器\n",
    "#from sklearn.naive_bayes import MultinomialNB\n",
    "#clf = MultinomialNB(alpha=0.001).fit(train_features, train_labels)"
   ]
  },
  {
   "cell_type": "code",
   "execution_count": 80,
   "metadata": {},
   "outputs": [],
   "source": [
    "import os\n",
    "import io\n",
    "\n",
    "train_contents = []\n",
    "test_contents = []\n",
    "train_labels = []\n",
    "test_labels = []\n",
    "tag_path   = './text_classification-master/text_classification/train/'\n",
    "train_path = './text_classification-master/text_classification/train/'\n",
    "test_path  = './text_classification-master/text_classification/test/'\n",
    "for tag in os.listdir(tag_path):\n",
    "    \n",
    "    for name in os.listdir(train_path + tag + '/'):\n",
    "        with open(train_path + tag + '/' + name, encoding='gb18030') as f:\n",
    "            train_contents.append(f.readline())\n",
    "            train_labels.append(tag)\n",
    "    for name in os.listdir(test_path + tag + '/'):\n",
    "        with open(test_path + tag + '/' + name, encoding='gb18030') as f:\n",
    "            test_contents.append(f.readline())\n",
    "            test_labels.append(tag)\n",
    "\n",
    "#print(train_contents)\n",
    "#print(train_labels)\n",
    "\n",
    "stop_words = [line.strip() for line in io.open('./text_classification-master/text_classification/stop/stopword.txt').readlines()]\n",
    "#print(stop_words)"
   ]
  },
  {
   "cell_type": "code",
   "execution_count": 86,
   "metadata": {},
   "outputs": [
    {
     "name": "stdout",
     "output_type": "stream",
     "text": [
      "0.925\n"
     ]
    },
    {
     "name": "stderr",
     "output_type": "stream",
     "text": [
      "/Library/Frameworks/Python.framework/Versions/3.6/lib/python3.6/site-packages/sklearn/feature_extraction/text.py:1089: FutureWarning: Conversion of the second argument of issubdtype from `float` to `np.floating` is deprecated. In future, it will be treated as `np.float64 == np.dtype(float).type`.\n",
      "  if hasattr(X, 'dtype') and np.issubdtype(X.dtype, np.float):\n"
     ]
    }
   ],
   "source": [
    "# 模型\n",
    "import jieba\n",
    "from sklearn.naive_bayes import MultinomialNB\n",
    "from sklearn import metrics\n",
    "\n",
    "# 分词 & TF-IDF\n",
    "tfidf_vec = TfidfVectorizer(tokenizer=jieba.cut, stop_words=stop_words, max_df=0.5)\n",
    "train_features = tfidf_vec.fit_transform(train_contents)\n",
    "\n",
    "test_tfidf_vec = TfidfVectorizer(tokenizer=jieba.cut, stop_words=stop_words, max_df=0.5, vocabulary=tfidf_vec.vocabulary_)\n",
    "test_features = test_tfidf_vec.fit_transform(test_contents)\n",
    "#print('不重复的词:', tfidf_vec.get_feature_names())\n",
    "#print('每个单词的ID:', tfidf_vec.vocabulary_)\n",
    "#print('每个单词的TF-IDF值:', train_features.toarray()[0])\n",
    "\n",
    "# 建模\n",
    "\n",
    "clf = MultinomialNB(alpha=0.001).fit(train_features, train_labels)\n",
    "\n",
    "# 预测\n",
    "predicted_labels = clf.predict(test_features)\n",
    "\n",
    "# 评分\n",
    "print(metrics.accuracy_score(test_labels, predicted_labels))"
   ]
  },
  {
   "cell_type": "code",
   "execution_count": 84,
   "metadata": {},
   "outputs": [],
   "source": [
    "\n",
    "\n"
   ]
  },
  {
   "cell_type": "code",
   "execution_count": null,
   "metadata": {},
   "outputs": [],
   "source": []
  }
 ],
 "metadata": {
  "kernelspec": {
   "display_name": "Python 3",
   "language": "python",
   "name": "python3"
  },
  "language_info": {
   "codemirror_mode": {
    "name": "ipython",
    "version": 3
   },
   "file_extension": ".py",
   "mimetype": "text/x-python",
   "name": "python",
   "nbconvert_exporter": "python",
   "pygments_lexer": "ipython3",
   "version": "3.6.3"
  }
 },
 "nbformat": 4,
 "nbformat_minor": 2
}
